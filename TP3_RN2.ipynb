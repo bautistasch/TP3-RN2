{
  "cells": [
    {
      "cell_type": "markdown",
      "source": [
        "# TP3 RN2 - Bautista Schneeberger\n",
        "\n",
        "En este TP uso como dataset la Constitución de la República Soberana y Democrática Argentina.\n",
        "\n",
        "Comparo la estrategia Many to One con Many to Many (sugerida por Carlos en clase). Ante *ceteris paribus*, Many to One outperformó a Many to Many. Hipótesis: Many to One amplia la cantidad de datos de train, entonces *es como si* se hiciese un data augmentation.\n",
        "\n",
        "\n",
        "\n"
      ],
      "metadata": {
        "id": "T6GQNImyCUjz"
      }
    },
    {
      "cell_type": "code",
      "source": [
        "import zipfile\n",
        "from matplotlib import pyplot as plt\n",
        "from collections import Counter\n",
        "import tensorflow as tf\n",
        "from tensorflow.keras.preprocessing.text import Tokenizer\n",
        "import numpy as np\n",
        "from tensorflow.keras.preprocessing.sequence import pad_sequences\n",
        "from sklearn.model_selection import train_test_split"
      ],
      "metadata": {
        "id": "pOVGB4e8Cbgd"
      },
      "execution_count": 53,
      "outputs": []
    },
    {
      "cell_type": "code",
      "source": [
        "!wget https://dl.fbaipublicfiles.com/fasttext/vectors-crawl/cc.es.300.vec.gz"
      ],
      "metadata": {
        "colab": {
          "base_uri": "https://localhost:8080/"
        },
        "id": "cZvq1_gzdycK",
        "outputId": "be2a76fa-7fd6-4ce1-abc8-dcd20f42345c"
      },
      "execution_count": 54,
      "outputs": [
        {
          "output_type": "stream",
          "name": "stdout",
          "text": [
            "--2023-11-02 07:58:23--  https://dl.fbaipublicfiles.com/fasttext/vectors-crawl/cc.es.300.vec.gz\n",
            "Resolving dl.fbaipublicfiles.com (dl.fbaipublicfiles.com)... 13.35.7.50, 13.35.7.82, 13.35.7.128, ...\n",
            "Connecting to dl.fbaipublicfiles.com (dl.fbaipublicfiles.com)|13.35.7.50|:443... connected.\n",
            "HTTP request sent, awaiting response... 200 OK\n",
            "Length: 1285580896 (1.2G) [binary/octet-stream]\n",
            "Saving to: ‘cc.es.300.vec.gz.1’\n",
            "\n",
            "cc.es.300.vec.gz.1  100%[===================>]   1.20G  59.3MB/s    in 15s     \n",
            "\n",
            "2023-11-02 07:58:38 (81.0 MB/s) - ‘cc.es.300.vec.gz.1’ saved [1285580896/1285580896]\n",
            "\n"
          ]
        }
      ]
    },
    {
      "cell_type": "markdown",
      "source": [
        "Embeddings en español"
      ],
      "metadata": {
        "id": "irjfJFUACscv"
      }
    },
    {
      "cell_type": "code",
      "source": [
        "import gzip\n",
        "import os\n",
        "\n",
        "downloaded_file = 'cc.es.300.vec.gz'\n",
        "unzipped_file = 'cc.es.300.vec'\n",
        "\n",
        "if not os.path.isfile(unzipped_file):\n",
        "    with gzip.open(downloaded_file, 'rb') as f_in:\n",
        "        with open(unzipped_file, 'wb') as f_out:\n",
        "            for line in f_in:\n",
        "                f_out.write(line)"
      ],
      "metadata": {
        "id": "jc2stwxXi9GQ"
      },
      "execution_count": 72,
      "outputs": []
    },
    {
      "cell_type": "code",
      "execution_count": 73,
      "metadata": {
        "id": "R2AZITlSf0Ms"
      },
      "outputs": [],
      "source": [
        "import re\n",
        "alphabets= \"([A-Za-z])\"\n",
        "prefixes = \"(Mr|St|Mrs|Ms|Dr|no|No)[.]\"\n",
        "suffixes = \"(Inc|Ltd|Jr|Sr|Co)\"\n",
        "starters = \"(Mr|Mrs|Ms|Dr|Prof|Capt|Cpt|Lt|He\\s|She\\s|It\\s|They\\s|Their\\s|Our\\s|We\\s|But\\s|However\\s|That\\s|This\\s|Wherever)\"\n",
        "acronyms = \"([A-Z][.][A-Z][.](?:[A-Z][.])?)\"\n",
        "websites = \"[.](com|net|org|io|gov|edu|me)\"\n",
        "digits = \"([0-9])\"\n",
        "multiple_dots = r'\\.{2,}'\n",
        "\n",
        "def split_into_sentences(text: str) -> list[str]:\n",
        "    \"\"\"\n",
        "    Split the text into sentences.\n",
        "\n",
        "    If the text contains substrings \"<prd>\" or \"<stop>\", they would lead\n",
        "    to incorrect splitting because they are used as markers for splitting.\n",
        "\n",
        "    :param text: text to be split into sentences\n",
        "    :type text: str\n",
        "\n",
        "    :return: list of sentences\n",
        "    :rtype: list[str]\n",
        "    \"\"\"\n",
        "    text = \" \" + text + \"  \"\n",
        "    text = text.replace(\"\\n\",\" \")\n",
        "    text = re.sub(prefixes,\"\\\\1<prd>\",text)\n",
        "    text = re.sub(websites,\"<prd>\\\\1\",text)\n",
        "    text = re.sub(digits + \"[.]\" + digits,\"\\\\1<prd>\\\\2\",text)\n",
        "    text = re.sub(multiple_dots, lambda match: \"<prd>\" * len(match.group(0)) + \"<stop>\", text)\n",
        "    if \"Ph.D\" in text: text = text.replace(\"Ph.D.\",\"Ph<prd>D<prd>\")\n",
        "    text = re.sub(\"\\s\" + alphabets + \"[.] \",\" \\\\1<prd> \",text)\n",
        "    text = re.sub(acronyms+\" \"+starters,\"\\\\1<stop> \\\\2\",text)\n",
        "    text = re.sub(alphabets + \"[.]\" + alphabets + \"[.]\" + alphabets + \"[.]\",\"\\\\1<prd>\\\\2<prd>\\\\3<prd>\",text)\n",
        "    text = re.sub(alphabets + \"[.]\" + alphabets + \"[.]\",\"\\\\1<prd>\\\\2<prd>\",text)\n",
        "    text = re.sub(\" \"+suffixes+\"[.] \"+starters,\" \\\\1<stop> \\\\2\",text)\n",
        "    text = re.sub(\" \"+suffixes+\"[.]\",\" \\\\1<prd>\",text)\n",
        "    text = re.sub(\" \" + alphabets + \"[.]\",\" \\\\1<prd>\",text)\n",
        "    if \"”\" in text: text = text.replace(\".”\",\"”.\")\n",
        "    if \"\\\"\" in text: text = text.replace(\".\\\"\",\"\\\".\")\n",
        "    if \"!\" in text: text = text.replace(\"!\\\"\",\"\\\"!\")\n",
        "    if \"?\" in text: text = text.replace(\"?\\\"\",\"\\\"?\")\n",
        "    text = text.replace(\".\",\".<stop>\")\n",
        "    text = text.replace(\"?\",\"?<stop>\")\n",
        "    text = text.replace(\"!\",\"!<stop>\")\n",
        "    text = text.replace(\"<prd>\",\".\")\n",
        "    sentences = text.split(\"<stop>\")\n",
        "    sentences = ['<SOS> ' + s.strip() + ' <EOS>' for s in sentences]\n",
        "    if sentences and not sentences[-1]: sentences = sentences[:-1]\n",
        "    return sentences"
      ]
    },
    {
      "cell_type": "code",
      "execution_count": 74,
      "metadata": {
        "id": "WIz1vJra_6tw"
      },
      "outputs": [],
      "source": [
        "with open(\"output.txt\", 'r', encoding='utf-8') as file:\n",
        "    book = file.read()"
      ]
    },
    {
      "cell_type": "code",
      "execution_count": 75,
      "metadata": {
        "id": "bIDnuXWggX6O"
      },
      "outputs": [],
      "source": [
        "book = split_into_sentences(book)"
      ]
    },
    {
      "cell_type": "code",
      "execution_count": 76,
      "metadata": {
        "colab": {
          "base_uri": "https://localhost:8080/",
          "height": 53
        },
        "id": "oquhj3AngoVK",
        "outputId": "6a776954-885c-4588-afa4-e743546d0162"
      },
      "outputs": [
        {
          "output_type": "execute_result",
          "data": {
            "text/plain": [
              "'<SOS> Deberá ser  presentada al Secretario General de la Organización, quien transmitirá copias de  la misma a los otros Estados miembros de la Organización y al Secretario de la  Corte. <EOS>'"
            ],
            "application/vnd.google.colaboratory.intrinsic+json": {
              "type": "string"
            }
          },
          "metadata": {},
          "execution_count": 76
        }
      ],
      "source": [
        "book[1200]"
      ]
    },
    {
      "cell_type": "code",
      "execution_count": 77,
      "metadata": {
        "id": "Rs9yw_WhPxu7"
      },
      "outputs": [],
      "source": [
        "maxTokens = 5000\n",
        "token = Tokenizer(num_words=maxTokens,\n",
        "                  filters='!\"“”#$%&()*+,.-/:;=?@[\\\\]^_`{|}~\\t\\n\\ufeff\\u2002', lower=True,\n",
        "                  split=' ', char_level=False, oov_token=None)\n",
        "token.fit_on_texts(book)"
      ]
    },
    {
      "cell_type": "code",
      "execution_count": 78,
      "metadata": {
        "id": "HOHSEmy-QAdg"
      },
      "outputs": [],
      "source": [
        "sequences = token.texts_to_sequences(book)"
      ]
    },
    {
      "cell_type": "code",
      "source": [
        "lens = [len(seq) for seq in sequences]\n",
        "plt.hist(lens, bins = len(lens)//16);\n",
        "plt.xlim(0, 250)\n",
        "plt.title('Histograma cantidad de palabras de las oraciones')\n",
        "plt.ylabel('Cantidad de oraciones')\n",
        "plt.xlabel('Cantidad de palabras en la oración')"
      ],
      "metadata": {
        "colab": {
          "base_uri": "https://localhost:8080/",
          "height": 489
        },
        "id": "yNkMEzmfDHYw",
        "outputId": "868f4fb9-fa6d-431a-e1af-e843883f2370"
      },
      "execution_count": 79,
      "outputs": [
        {
          "output_type": "execute_result",
          "data": {
            "text/plain": [
              "Text(0.5, 0, 'Cantidad de palabras en la oración')"
            ]
          },
          "metadata": {},
          "execution_count": 79
        },
        {
          "output_type": "display_data",
          "data": {
            "text/plain": [
              "<Figure size 640x480 with 1 Axes>"
            ],
            "image/png": "[encoded data removed]"
          },
          "metadata": {}
        }
      ]
    },
    {
      "cell_type": "markdown",
      "source": [
        "Me quedo con las oraciones menores a 50 palabras"
      ],
      "metadata": {
        "id": "eFs5NU_NENyw"
      }
    },
    {
      "cell_type": "code",
      "source": [
        "sequences = [sublist for sublist in sequences if len(sublist) <= 50]"
      ],
      "metadata": {
        "id": "4iEmWQHM_nNn"
      },
      "execution_count": 80,
      "outputs": []
    },
    {
      "cell_type": "code",
      "source": [
        "len(sequences)"
      ],
      "metadata": {
        "colab": {
          "base_uri": "https://localhost:8080/"
        },
        "id": "JNBG-nK8EZmh",
        "outputId": "422541a2-fadd-4780-d270-7dfd3e61b63f"
      },
      "execution_count": 81,
      "outputs": [
        {
          "output_type": "execute_result",
          "data": {
            "text/plain": [
              "2322"
            ]
          },
          "metadata": {},
          "execution_count": 81
        }
      ]
    },
    {
      "cell_type": "markdown",
      "source": [
        "# Many to One. LSTM + MLP"
      ],
      "metadata": {
        "id": "7vo9mwr-Gkbt"
      }
    },
    {
      "cell_type": "code",
      "execution_count": 84,
      "metadata": {
        "id": "XZ73QhT5QAnX"
      },
      "outputs": [],
      "source": [
        "def create_dataset(sequence):\n",
        "    inputs = []\n",
        "    outputs = []\n",
        "    for i, sent in enumerate(sequence):\n",
        "        for j in range(1, len(sent)-1):\n",
        "          inputs.append(sent[:j])\n",
        "          outputs.append([sent[j]])\n",
        "\n",
        "    return inputs, outputs"
      ]
    },
    {
      "cell_type": "code",
      "execution_count": 85,
      "metadata": {
        "id": "TPoB2Q4mQAq2"
      },
      "outputs": [],
      "source": [
        "X, y = create_dataset(sequences)\n",
        "x_train = pad_sequences(X, maxlen=maxLen)\n",
        "y_train = np.array(y)\n",
        "x_train, x_test, y_train, y_test = train_test_split(x_train, y_train, test_size=0.3)"
      ]
    },
    {
      "cell_type": "code",
      "execution_count": 87,
      "metadata": {
        "id": "FKAsqcAja_G9"
      },
      "outputs": [],
      "source": [
        "reverse_dictionary = token.index_word\n",
        "dictionary = dict([(value, key) for (key, value) in reverse_dictionary.items()])\n",
        "num_words=len(dictionary)+1"
      ]
    },
    {
      "cell_type": "code",
      "execution_count": 88,
      "metadata": {
        "colab": {
          "base_uri": "https://localhost:8080/",
          "height": 84,
          "referenced_widgets": [
            "169915ab226443c7a5c0b3b9267b7b39",
            "dc8db00fa3f24112867971f8140e89e7",
            "d38ee55ad546458cb2af9256257e9e78"
          ]
        },
        "id": "UP3R7ObLqGER",
        "outputId": "faa4a8c6-9a36-4da4-82ef-40f9258ac713"
      },
      "outputs": [
        {
          "output_type": "stream",
          "name": "stdout",
          "text": [
            "loading word embeddings...\n"
          ]
        },
        {
          "output_type": "display_data",
          "data": {
            "text/plain": [
              "IntProgress(value=0, max=1000000)"
            ],
            "application/vnd.jupyter.widget-view+json": {
              "version_major": 2,
              "version_minor": 0,
              "model_id": "169915ab226443c7a5c0b3b9267b7b39"
            }
          },
          "metadata": {}
        },
        {
          "output_type": "stream",
          "name": "stdout",
          "text": [
            "found 2000000 word vectors\n"
          ]
        }
      ],
      "source": [
        "import codecs\n",
        "import IPython.display as ipd\n",
        "from IPython.display import Audio, update_display\n",
        "from ipywidgets import IntProgress\n",
        "\n",
        "EMB = \"wiki-news-300d-1M.vec\"\n",
        "EMB = \"cc.es.300.vec\"\n",
        "N = 1000000\n",
        "\n",
        "#load embeddings\n",
        "print('loading word embeddings...')\n",
        "embeddings_index = {}\n",
        "f = codecs.open(f'./{EMB}', encoding='utf-8')\n",
        "bar = IntProgress(min=0, max=N)\n",
        "ipd.display(bar)\n",
        "\n",
        "i = 0\n",
        "for n, line in enumerate(f):\n",
        "    values = line.rstrip().rsplit(' ')\n",
        "    word = values[0]\n",
        "    coefs = np.asarray(values[1:], dtype='float32')\n",
        "    embeddings_index[word] = coefs\n",
        "    if n//(N//100) > i:\n",
        "          bar.value = n\n",
        "          i += 1\n",
        "f.close()\n",
        "print('found %s word vectors' % len(embeddings_index))"
      ]
    },
    {
      "cell_type": "code",
      "execution_count": 102,
      "metadata": {
        "id": "cVwzHfDya_Au"
      },
      "outputs": [],
      "source": [
        "embed_dim=300\n",
        "embedding_matrix=np.zeros([num_words, embed_dim])\n",
        "for word, idx in dictionary.items():\n",
        "  if word in embeddings_index:\n",
        "    embedding_matrix[idx,:]=embeddings_index[word]"
      ]
    },
    {
      "cell_type": "code",
      "execution_count": 103,
      "metadata": {
        "id": "koANcVKYYk71"
      },
      "outputs": [],
      "source": [
        "from tensorflow.keras.layers import Masking, Embedding, Bidirectional, LSTM, Conv1D, MaxPooling1D, GlobalMaxPooling1D, Dropout, Dense, Input, Concatenate, Dot, RepeatVector, TimeDistributed, Multiply, Lambda, Flatten, Activation, Reshape, BatchNormalization\n",
        "import tensorflow.keras.backend as K\n",
        "from tensorflow.keras.activations import softmax\n",
        "from tensorflow.keras.models import Model, load_model\n",
        "from tensorflow.keras import optimizers\n",
        "from tensorflow.keras.utils import plot_model\n",
        "from tensorflow.keras.callbacks import ReduceLROnPlateau, EarlyStopping\n",
        "\n",
        "nb_words = len(embedding_matrix) #Vocabulary size\n",
        "embed_dim = len(embedding_matrix[0]) #Vectorization dim\n",
        "value_dim = 100\n",
        "maxLen = len(x_train[0])"
      ]
    },
    {
      "cell_type": "code",
      "execution_count": 118,
      "metadata": {
        "id": "F82D6sTghUj1"
      },
      "outputs": [],
      "source": [
        "input_layer = Input(shape=(maxLen,)) #Cantidad maxima de la frase de entrada, estos son los timesteps para este caso\n",
        "embedding_layer = Embedding(nb_words, embed_dim, weights=[embedding_matrix], input_length=maxLen, trainable=True)(input_layer)\n",
        "lstm = LSTM(value_dim, return_sequences=False, activation=\"tanh\")(embedding_layer)\n",
        "drop = Dropout(0.4)(lstm)\n",
        "dense_hidden = Dense(32, activation='relu')(drop)\n",
        "dense2 = Dense(nb_words, activation='softmax')(dense_hidden)\n",
        "model = Model(inputs=input_layer, outputs=dense2)"
      ]
    },
    {
      "cell_type": "code",
      "execution_count": 119,
      "metadata": {
        "id": "85gXMeBuhUj1",
        "colab": {
          "base_uri": "https://localhost:8080/"
        },
        "outputId": "79e96dad-de41-4a17-ce99-01aa40a5d57b"
      },
      "outputs": [
        {
          "output_type": "stream",
          "name": "stdout",
          "text": [
            "Model: \"model_6\"\n",
            "_________________________________________________________________\n",
            " Layer (type)                Output Shape              Param #   \n",
            "=================================================================\n",
            " input_7 (InputLayer)        [(None, 50)]              0         \n",
            "                                                                 \n",
            " embedding_6 (Embedding)     (None, 50, 300)           1765800   \n",
            "                                                                 \n",
            " lstm_6 (LSTM)               (None, 100)               160400    \n",
            "                                                                 \n",
            " dropout_6 (Dropout)         (None, 100)               0         \n",
            "                                                                 \n",
            " dense_10 (Dense)            (None, 32)                3232      \n",
            "                                                                 \n",
            " dense_11 (Dense)            (None, 5886)              194238    \n",
            "                                                                 \n",
            "=================================================================\n",
            "Total params: 2123670 (8.10 MB)\n",
            "Trainable params: 2123670 (8.10 MB)\n",
            "Non-trainable params: 0 (0.00 Byte)\n",
            "_________________________________________________________________\n"
          ]
        }
      ],
      "source": [
        "model.summary()"
      ]
    },
    {
      "cell_type": "code",
      "source": [
        "model.save_weights('model_weights.h5')"
      ],
      "metadata": {
        "id": "TtrnFA_-S8l2"
      },
      "execution_count": 144,
      "outputs": []
    },
    {
      "cell_type": "code",
      "execution_count": 120,
      "metadata": {
        "id": "j0JRb8SNhUj1"
      },
      "outputs": [],
      "source": [
        "callbackROP = ReduceLROnPlateau(monitor=\"val_loss\", factor=0.5, patience=5)\n",
        "callbackES = EarlyStopping(monitor='val_loss', patience=10)"
      ]
    },
    {
      "cell_type": "code",
      "execution_count": 121,
      "metadata": {
        "id": "ZosLpsQfwcdb"
      },
      "outputs": [],
      "source": [
        "from keras.optimizers import Adam\n",
        "\n",
        "model.compile(loss=\"sparse_categorical_crossentropy\", optimizer=Adam(learning_rate = 0.01))"
      ]
    },
    {
      "cell_type": "code",
      "execution_count": 122,
      "metadata": {
        "id": "QdyPh--mhUj1",
        "colab": {
          "base_uri": "https://localhost:8080/"
        },
        "outputId": "7d9d4e0a-ed34-479f-feb2-acf53fcdb806"
      },
      "outputs": [
        {
          "output_type": "stream",
          "name": "stdout",
          "text": [
            "Epoch 1/50\n",
            "51/51 [==============================] - 55s 1s/step - loss: 6.5900 - val_loss: 6.1246 - lr: 0.0100\n",
            "Epoch 2/50\n",
            "51/51 [==============================] - 55s 1s/step - loss: 5.7817 - val_loss: 5.6881 - lr: 0.0100\n",
            "Epoch 3/50\n",
            "51/51 [==============================] - 46s 891ms/step - loss: 5.2484 - val_loss: 5.4172 - lr: 0.0100\n",
            "Epoch 4/50\n",
            "51/51 [==============================] - 44s 863ms/step - loss: 4.8434 - val_loss: 5.2778 - lr: 0.0100\n",
            "Epoch 5/50\n",
            "51/51 [==============================] - 43s 851ms/step - loss: 4.5577 - val_loss: 5.2110 - lr: 0.0100\n",
            "Epoch 6/50\n",
            "51/51 [==============================] - 43s 845ms/step - loss: 4.3255 - val_loss: 5.1890 - lr: 0.0100\n",
            "Epoch 7/50\n",
            "51/51 [==============================] - 43s 853ms/step - loss: 4.1489 - val_loss: 5.2192 - lr: 0.0100\n",
            "Epoch 8/50\n",
            "51/51 [==============================] - 42s 830ms/step - loss: 4.0090 - val_loss: 5.2154 - lr: 0.0100\n",
            "Epoch 9/50\n",
            "51/51 [==============================] - 43s 842ms/step - loss: 3.8993 - val_loss: 5.2655 - lr: 0.0100\n",
            "Epoch 10/50\n",
            "51/51 [==============================] - 42s 832ms/step - loss: 3.7936 - val_loss: 5.3163 - lr: 0.0100\n",
            "Epoch 11/50\n",
            "51/51 [==============================] - 44s 866ms/step - loss: 3.7119 - val_loss: 5.3409 - lr: 0.0100\n",
            "Epoch 12/50\n",
            "51/51 [==============================] - 42s 836ms/step - loss: 3.5269 - val_loss: 5.4172 - lr: 0.0050\n",
            "Epoch 13/50\n",
            "51/51 [==============================] - 42s 823ms/step - loss: 3.4524 - val_loss: 5.4838 - lr: 0.0050\n",
            "Epoch 14/50\n",
            "51/51 [==============================] - 43s 853ms/step - loss: 3.3942 - val_loss: 5.5022 - lr: 0.0050\n",
            "Epoch 15/50\n",
            "51/51 [==============================] - 42s 833ms/step - loss: 3.3412 - val_loss: 5.5508 - lr: 0.0050\n",
            "Epoch 16/50\n",
            "51/51 [==============================] - 42s 832ms/step - loss: 3.3007 - val_loss: 5.6088 - lr: 0.0050\n"
          ]
        },
        {
          "output_type": "execute_result",
          "data": {
            "text/plain": [
              "<keras.src.callbacks.History at 0x78aa330633a0>"
            ]
          },
          "metadata": {},
          "execution_count": 122
        }
      ],
      "source": [
        "model.fit(x=x_train, y=y_train, validation_data=(x_test, y_test), batch_size=512, epochs=50, callbacks=[callbackROP, callbackES])"
      ]
    },
    {
      "cell_type": "markdown",
      "source": [
        "# Greedy search + ArgMax"
      ],
      "metadata": {
        "id": "3gpFgMjFeLcT"
      }
    },
    {
      "cell_type": "code",
      "source": [
        "def greedy_search(question, outputLen, model, many2many = False):\n",
        "\n",
        "  out = 0\n",
        "  response = []\n",
        "  reply = question\n",
        "  finished = False\n",
        "\n",
        "  while out != token.texts_to_sequences([\"<eos>\"])[0][0] and len(response) < outputLen:\n",
        "      out = pad_sequences(reply, maxlen=maxLen)\n",
        "      out = model.predict(out, verbose=0)\n",
        "      if many2many == True:\n",
        "        out = out[..., -1, :]\n",
        "      out = int(np.argmax(out))\n",
        "      reply[0] += [out]\n",
        "      response.append(out)\n",
        "\n",
        "  return response"
      ],
      "metadata": {
        "id": "N3RUZ8SUeMMm"
      },
      "execution_count": 123,
      "outputs": []
    },
    {
      "cell_type": "code",
      "source": [
        "question = token.texts_to_sequences([\"<sos> estados\"])"
      ],
      "metadata": {
        "id": "3A8POxoleX2i"
      },
      "execution_count": null,
      "outputs": []
    },
    {
      "cell_type": "code",
      "source": [
        "def from_seq_to_text(seq):\n",
        "    return token.sequences_to_texts([seq])"
      ],
      "metadata": {
        "id": "gZIlKOhaecsY"
      },
      "execution_count": 124,
      "outputs": []
    },
    {
      "cell_type": "code",
      "source": [
        "response = greedy_search(question, outputLen=25, model = model)\n",
        "rta = from_seq_to_text(response)\n",
        "rta"
      ],
      "metadata": {
        "colab": {
          "base_uri": "https://localhost:8080/"
        },
        "id": "al853jSW0wVD",
        "outputId": "e6425bdd-8afd-48d6-f123-6e69312d9bcb"
      },
      "execution_count": 126,
      "outputs": [
        {
          "output_type": "execute_result",
          "data": {
            "text/plain": [
              "['partes en el presente protocolo está sujeta a la nación y a la nación argentina reunidos en el presente pacto entrará en el presente pacto']"
            ]
          },
          "metadata": {},
          "execution_count": 126
        }
      ]
    },
    {
      "cell_type": "markdown",
      "metadata": {
        "id": "cp-mOs7oPJr6"
      },
      "source": [
        "# Greedy search + T"
      ]
    },
    {
      "cell_type": "code",
      "execution_count": 127,
      "metadata": {
        "id": "HvFeRI-lPJr7"
      },
      "outputs": [],
      "source": [
        "def changeTemp(a, temperature=1.0, epsilon=1e-8):\n",
        "    a = np.log(a) / temperature\n",
        "    sampled_temp = np.exp(a+epsilon)/(np.exp(a+epsilon).sum())\n",
        "    sampled_temp = sampled_temp/sampled_temp.sum()\n",
        "    return sampled_temp"
      ]
    },
    {
      "cell_type": "code",
      "source": [
        "def greedy_search_withT(question, model, max_len=10, T=1.0, many2many = False):\n",
        "\n",
        "  out = 0\n",
        "  response = []\n",
        "  reply = question\n",
        "  finished = False\n",
        "  eof = token.texts_to_sequences([\"<eos>\"])[0][0]\n",
        "\n",
        "  while out != eof and len(response) < max_len:\n",
        "\n",
        "      out = pad_sequences(reply, maxlen=maxLen)\n",
        "      out = model.predict(out, verbose=0)\n",
        "      if many2many == True:\n",
        "        out = out[..., -1, :]\n",
        "      temp = changeTemp(out[0], temperature=T)\n",
        "      out = np.random.choice(range(len(temp)), p=temp)\n",
        "      reply[0] += [out]\n",
        "      if out in response:\n",
        "        finished = True\n",
        "      else:\n",
        "        response.append(out)\n",
        "\n",
        "  return response"
      ],
      "metadata": {
        "id": "DbUWjR8m4rE1"
      },
      "execution_count": 128,
      "outputs": []
    },
    {
      "cell_type": "code",
      "execution_count": 129,
      "metadata": {
        "id": "tLwZCSGoY17b",
        "colab": {
          "base_uri": "https://localhost:8080/",
          "height": 430
        },
        "outputId": "3a6f10e1-2ba9-4870-9bf1-5e5afd3f5b58"
      },
      "outputs": [
        {
          "output_type": "display_data",
          "data": {
            "text/plain": [
              "<Figure size 640x480 with 1 Axes>"
            ],
            "image/png": "[encoded data removed]"
          },
          "metadata": {}
        }
      ],
      "source": [
        "arr1 = [1, 1.2, 0.5, 0.6, 0.8]\n",
        "plt.figure()\n",
        "plt.bar(range(len(arr1)), arr1, alpha=0.5)\n",
        "arr2 = changeTemp(arr1, temperature=2.1)\n",
        "plt.bar(range(len(arr2)), arr2, alpha=0.5)\n",
        "plt.show()\n"
      ]
    },
    {
      "cell_type": "code",
      "execution_count": 130,
      "metadata": {
        "id": "rqHcaXMI5yu0"
      },
      "outputs": [],
      "source": [
        "question = token.texts_to_sequences([\"<sos> estados\"])"
      ]
    },
    {
      "cell_type": "code",
      "execution_count": 133,
      "metadata": {
        "id": "Cc5_Ya5lPdV-",
        "colab": {
          "base_uri": "https://localhost:8080/"
        },
        "outputId": "6f3b18ba-f911-4767-c0ad-756c702511cf"
      },
      "outputs": [
        {
          "output_type": "execute_result",
          "data": {
            "text/plain": [
              "['reunidos en cuenta sus riquezas y recomendaciones que adoptar la seguridad social sean perjudiciales para información pertinente h pereyra han aceptado de las naciones unidas']"
            ]
          },
          "metadata": {},
          "execution_count": 133
        }
      ],
      "source": [
        "def from_seq_to_text(seq):\n",
        "    return token.sequences_to_texts([seq])\n",
        "\n",
        "response = greedy_search_withT(question, model = model,max_len=25, T=0.5)\n",
        "rta = from_seq_to_text(response)\n",
        "rta"
      ]
    },
    {
      "cell_type": "markdown",
      "metadata": {
        "id": "ucj0WhQ3bt5k"
      },
      "source": [
        "# Stochastic beam search + T"
      ]
    },
    {
      "cell_type": "code",
      "execution_count": 134,
      "metadata": {
        "id": "wH5B8sP2bpQw"
      },
      "outputs": [],
      "source": [
        "def stoch_beam_search(kBeams, maxOutputLen, candidatesAndProb, model, T=1.0, many2many = False):\n",
        "\n",
        "  candidates = candidatesAndProb[0]\n",
        "  probabilities = candidatesAndProb[1]\n",
        "\n",
        "  if maxOutputLen < 1:\n",
        "    return candidates, probabilities\n",
        "  else:\n",
        "\n",
        "    possibleCand = [0]*kBeams\n",
        "    possibleProb = [0]*kBeams\n",
        "\n",
        "    #Calculamos los candidatos para cada rama, kBeams candidatos maximos\n",
        "    for curr in candidates:\n",
        "      out = pad_sequences([curr], maxlen=maxLen)\n",
        "      out = model.predict(out, verbose=0) #Probabilidades\n",
        "      if many2many == True:\n",
        "        out = out[..., -1, :]\n",
        "      temp = changeTemp(out[0], temperature=T)\n",
        "      newCandidates = np.argsort(temp)[::-1][:kBeams] #Agarramos los indices de los k-elementos con mas prob\n",
        "      newCandidates = [[num] for num in newCandidates] #Convertimos los numeros en listas de numeros por compatibilidad con pad_sequences\n",
        "      newCandProba = [temp[i] for i in newCandidates] #Agarramos su probabilidad\n",
        "\n",
        "      #Elegimos los kBeams caminos con mas probabilidad\n",
        "      for i, prob in enumerate(newCandProba): #Agarramos la probabilidad de cada candidato\n",
        "        for j in range(len(possibleProb)): #Para cada probabilidad maxima guardada\n",
        "          if possibleProb[j] < prob and newCandProba[i] not in possibleCand:\n",
        "            possibleProb[j] = prob\n",
        "            possibleCand[j] = newCandProba[i]\n",
        "\n",
        "    #print(possibleCand)\n",
        "    #print(possibleProb)\n",
        "\n",
        "    concatenated = np.concatenate((candidates, newCandidates), axis=1)\n",
        "    probabilities = np.multiply(probabilities, newCandProba)\n",
        "\n",
        "    #print(concatenated)\n",
        "    #print(probabilities)\n",
        "\n",
        "    return stoch_beam_search(kBeams, maxOutputLen-1, (concatenated, probabilities), model = model, T = T, many2many = many2many)\n"
      ]
    },
    {
      "cell_type": "code",
      "execution_count": 135,
      "metadata": {
        "id": "PtnJvuQAbqjA"
      },
      "outputs": [],
      "source": [
        "question = token.texts_to_sequences([\"<sos> estados\"])"
      ]
    },
    {
      "cell_type": "code",
      "execution_count": 138,
      "metadata": {
        "id": "whbxNptz51Lp",
        "colab": {
          "base_uri": "https://localhost:8080/"
        },
        "outputId": "43f9219f-3f5d-4d1e-808c-c99e28d1b109"
      },
      "outputs": [
        {
          "output_type": "stream",
          "name": "stdout",
          "text": [
            "prob: 0.0000000000 - Rta: <sos> estados partes sin la honra reglamento las la estado competente y comprometen elegidos por comité de la momento y la propio\n",
            "prob: 0.0000000000 - Rta: <sos> estados americanos inmediatamente los personalidad país su los período independiente en depositarán como la congreso y el estado del los familia\n",
            "prob: 0.0000000000 - Rta: <sos> estados mencionados por el familia ni la partir plazo de o hace exigidas a secretario del que otro a las honra\n",
            "prob: 0.0000000000 - Rta: <sos> estados miembros de asegurar caso presidente el una tercio judicial de convoque correctiva las estado o los caso que sus caso\n",
            "prob: 0.0000000000 - Rta: <sos> estados federales para su propio efecto a un tribunal nacional se considerarán posible el presidente en cualquier país de su cargo\n"
          ]
        }
      ],
      "source": [
        "maxOutputLen = 20\n",
        "kBeams = 5\n",
        "candidates = (question*kBeams, 1*kBeams)\n",
        "\n",
        "outSeq, outProb = stoch_beam_search(kBeams, maxOutputLen, candidates, T=1.1, model = model)\n",
        "result = token.sequences_to_texts(outSeq)\n",
        "\n",
        "for i, sent in enumerate(result):\n",
        "  print(f\"prob: {outProb[i][0]:.10f} - Rta: {sent}\")\n"
      ]
    },
    {
      "cell_type": "markdown",
      "source": [
        "# Many to many"
      ],
      "metadata": {
        "id": "4eB68R54xQ63"
      }
    },
    {
      "cell_type": "code",
      "source": [
        "y = []\n",
        "for seq in sequences: # Shifteo la oración para la predicción a un lag\n",
        "  seq = seq[0:-1]\n",
        "  seq.insert(0, 0)\n",
        "  y.append(seq)\n",
        "\n",
        "x_train = pad_sequences(sequences, maxlen=maxLen)\n",
        "y_train = pad_sequences(y, maxlen=maxLen)\n",
        "x_train, x_test, y_train, y_test = train_test_split(x_train, y_train, test_size=0.3)\n"
      ],
      "metadata": {
        "id": "wO6UOjAzyVuu"
      },
      "execution_count": 145,
      "outputs": []
    },
    {
      "cell_type": "code",
      "source": [
        "nb_words = len(embedding_matrix) #Vocabulary size\n",
        "embed_dim = len(embedding_matrix[0]) #Vectorization dim\n",
        "value_dim = 100\n",
        "maxLen = len(x_train[0])"
      ],
      "metadata": {
        "id": "fpbott0m6TPm"
      },
      "execution_count": 146,
      "outputs": []
    },
    {
      "cell_type": "code",
      "execution_count": 147,
      "metadata": {
        "id": "EdGRW1C14ofh"
      },
      "outputs": [],
      "source": [
        "input_layer = Input(shape=(maxLen,)) #Cantidad maxima de la frase de entrada, estos son los timesteps para este caso\n",
        "embedding_layer = Embedding(nb_words, embed_dim, weights=[embedding_matrix], input_length=maxLen, trainable=True)(input_layer)\n",
        "mask = Masking(mask_value=0.0, input_shape=(embed_dim, value_dim))(embedding_layer)\n",
        "lstm = LSTM(value_dim, return_sequences=True, activation=\"tanh\")(mask)\n",
        "drop = Dropout(0.4)(lstm)\n",
        "hidden_dense = Dense(32, activation='relu')(drop)\n",
        "dense2 = Dense(nb_words, activation='softmax')(hidden_dense)\n",
        "model2 = Model(inputs=input_layer, outputs=dense2)"
      ]
    },
    {
      "cell_type": "code",
      "execution_count": 148,
      "metadata": {
        "colab": {
          "base_uri": "https://localhost:8080/"
        },
        "outputId": "32b5c3e7-fa24-4131-a976-dfeafc49dfab",
        "id": "uhvXYW0t4ofp"
      },
      "outputs": [
        {
          "output_type": "stream",
          "name": "stdout",
          "text": [
            "Model: \"model_8\"\n",
            "_________________________________________________________________\n",
            " Layer (type)                Output Shape              Param #   \n",
            "=================================================================\n",
            " input_9 (InputLayer)        [(None, 50)]              0         \n",
            "                                                                 \n",
            " embedding_8 (Embedding)     (None, 50, 300)           1765800   \n",
            "                                                                 \n",
            " masking_3 (Masking)         (None, 50, 300)           0         \n",
            "                                                                 \n",
            " lstm_8 (LSTM)               (None, 50, 100)           160400    \n",
            "                                                                 \n",
            " dropout_8 (Dropout)         (None, 50, 100)           0         \n",
            "                                                                 \n",
            " dense_14 (Dense)            (None, 50, 32)            3232      \n",
            "                                                                 \n",
            " dense_15 (Dense)            (None, 50, 5886)          194238    \n",
            "                                                                 \n",
            "=================================================================\n",
            "Total params: 2123670 (8.10 MB)\n",
            "Trainable params: 2123670 (8.10 MB)\n",
            "Non-trainable params: 0 (0.00 Byte)\n",
            "_________________________________________________________________\n"
          ]
        }
      ],
      "source": [
        "model2.summary()"
      ]
    },
    {
      "cell_type": "code",
      "execution_count": 149,
      "metadata": {
        "id": "4gAcJJxx4ofp"
      },
      "outputs": [],
      "source": [
        "model2.compile(loss=\"sparse_categorical_crossentropy\", optimizer=Adam(learning_rate=0.01))"
      ]
    },
    {
      "cell_type": "code",
      "execution_count": 150,
      "metadata": {
        "colab": {
          "base_uri": "https://localhost:8080/"
        },
        "outputId": "3069beb1-ce80-43b5-f4c2-0a08b65d1c98",
        "id": "w2GuSZld4ofp"
      },
      "outputs": [
        {
          "output_type": "stream",
          "name": "stdout",
          "text": [
            "Epoch 1/50\n",
            "4/4 [==============================] - 34s 7s/step - loss: 8.5451 - val_loss: 7.1582 - lr: 0.0100\n",
            "Epoch 2/50\n",
            "4/4 [==============================] - 15s 4s/step - loss: 6.7316 - val_loss: 6.5289 - lr: 0.0100\n",
            "Epoch 3/50\n",
            "4/4 [==============================] - 19s 5s/step - loss: 6.1959 - val_loss: 6.3666 - lr: 0.0100\n",
            "Epoch 4/50\n",
            "4/4 [==============================] - 17s 4s/step - loss: 6.0746 - val_loss: 6.1997 - lr: 0.0100\n",
            "Epoch 5/50\n",
            "4/4 [==============================] - 15s 4s/step - loss: 5.8940 - val_loss: 6.1556 - lr: 0.0100\n",
            "Epoch 6/50\n",
            "4/4 [==============================] - 14s 4s/step - loss: 5.8088 - val_loss: 6.0151 - lr: 0.0100\n",
            "Epoch 7/50\n",
            "4/4 [==============================] - 14s 4s/step - loss: 5.6716 - val_loss: 5.9003 - lr: 0.0100\n",
            "Epoch 8/50\n",
            "4/4 [==============================] - 14s 4s/step - loss: 5.5669 - val_loss: 5.7626 - lr: 0.0100\n",
            "Epoch 9/50\n",
            "4/4 [==============================] - 14s 4s/step - loss: 5.4518 - val_loss: 5.6814 - lr: 0.0100\n",
            "Epoch 10/50\n",
            "4/4 [==============================] - 14s 4s/step - loss: 5.3481 - val_loss: 5.5942 - lr: 0.0100\n",
            "Epoch 11/50\n",
            "4/4 [==============================] - 20s 6s/step - loss: 5.2488 - val_loss: 5.4939 - lr: 0.0100\n",
            "Epoch 12/50\n",
            "4/4 [==============================] - 14s 4s/step - loss: 5.1400 - val_loss: 5.3900 - lr: 0.0100\n",
            "Epoch 13/50\n",
            "4/4 [==============================] - 14s 4s/step - loss: 5.0266 - val_loss: 5.2890 - lr: 0.0100\n",
            "Epoch 14/50\n",
            "4/4 [==============================] - 14s 4s/step - loss: 4.9087 - val_loss: 5.1639 - lr: 0.0100\n",
            "Epoch 15/50\n",
            "4/4 [==============================] - 14s 4s/step - loss: 4.7906 - val_loss: 5.0466 - lr: 0.0100\n",
            "Epoch 16/50\n",
            "4/4 [==============================] - 14s 4s/step - loss: 4.6727 - val_loss: 4.9571 - lr: 0.0100\n",
            "Epoch 17/50\n",
            "4/4 [==============================] - 14s 4s/step - loss: 4.5572 - val_loss: 4.8638 - lr: 0.0100\n",
            "Epoch 18/50\n",
            "4/4 [==============================] - 14s 3s/step - loss: 4.4508 - val_loss: 4.7909 - lr: 0.0100\n",
            "Epoch 19/50\n",
            "4/4 [==============================] - 17s 4s/step - loss: 4.3571 - val_loss: 4.7191 - lr: 0.0100\n",
            "Epoch 20/50\n",
            "4/4 [==============================] - 14s 4s/step - loss: 4.2642 - val_loss: 4.6617 - lr: 0.0100\n",
            "Epoch 21/50\n",
            "4/4 [==============================] - 14s 4s/step - loss: 4.1736 - val_loss: 4.5966 - lr: 0.0100\n",
            "Epoch 22/50\n",
            "4/4 [==============================] - 15s 4s/step - loss: 4.0825 - val_loss: 4.5298 - lr: 0.0100\n",
            "Epoch 23/50\n",
            "4/4 [==============================] - 14s 4s/step - loss: 3.9924 - val_loss: 4.4744 - lr: 0.0100\n",
            "Epoch 24/50\n",
            "4/4 [==============================] - 14s 4s/step - loss: 3.8940 - val_loss: 4.4133 - lr: 0.0100\n",
            "Epoch 25/50\n",
            "4/4 [==============================] - 16s 4s/step - loss: 3.8002 - val_loss: 4.3598 - lr: 0.0100\n",
            "Epoch 26/50\n",
            "4/4 [==============================] - 16s 4s/step - loss: 3.7075 - val_loss: 4.3062 - lr: 0.0100\n",
            "Epoch 27/50\n",
            "4/4 [==============================] - 14s 4s/step - loss: 3.6212 - val_loss: 4.2573 - lr: 0.0100\n",
            "Epoch 28/50\n",
            "4/4 [==============================] - 14s 4s/step - loss: 3.5281 - val_loss: 4.2039 - lr: 0.0100\n",
            "Epoch 29/50\n",
            "4/4 [==============================] - 14s 4s/step - loss: 3.4460 - val_loss: 4.1671 - lr: 0.0100\n",
            "Epoch 30/50\n",
            "4/4 [==============================] - 14s 4s/step - loss: 3.3639 - val_loss: 4.1024 - lr: 0.0100\n",
            "Epoch 31/50\n",
            "4/4 [==============================] - 14s 4s/step - loss: 3.2823 - val_loss: 4.0511 - lr: 0.0100\n",
            "Epoch 32/50\n",
            "4/4 [==============================] - 14s 4s/step - loss: 3.2024 - val_loss: 4.0036 - lr: 0.0100\n",
            "Epoch 33/50\n",
            "4/4 [==============================] - 14s 4s/step - loss: 3.1192 - val_loss: 3.9449 - lr: 0.0100\n",
            "Epoch 34/50\n",
            "4/4 [==============================] - 14s 3s/step - loss: 3.0339 - val_loss: 3.9080 - lr: 0.0100\n",
            "Epoch 35/50\n",
            "4/4 [==============================] - 16s 4s/step - loss: 2.9515 - val_loss: 3.8479 - lr: 0.0100\n",
            "Epoch 36/50\n",
            "4/4 [==============================] - 14s 4s/step - loss: 2.8689 - val_loss: 3.7957 - lr: 0.0100\n",
            "Epoch 37/50\n",
            "4/4 [==============================] - 14s 4s/step - loss: 2.7904 - val_loss: 3.7690 - lr: 0.0100\n",
            "Epoch 38/50\n",
            "4/4 [==============================] - 14s 4s/step - loss: 2.6984 - val_loss: 3.7269 - lr: 0.0100\n",
            "Epoch 39/50\n",
            "4/4 [==============================] - 14s 4s/step - loss: 2.6129 - val_loss: 3.6650 - lr: 0.0100\n",
            "Epoch 40/50\n",
            "4/4 [==============================] - 16s 4s/step - loss: 2.5303 - val_loss: 3.6000 - lr: 0.0100\n",
            "Epoch 41/50\n",
            "4/4 [==============================] - 17s 4s/step - loss: 2.4600 - val_loss: 3.5482 - lr: 0.0100\n",
            "Epoch 42/50\n",
            "4/4 [==============================] - 19s 5s/step - loss: 2.3910 - val_loss: 3.5122 - lr: 0.0100\n",
            "Epoch 43/50\n",
            "4/4 [==============================] - 14s 4s/step - loss: 2.3144 - val_loss: 3.4587 - lr: 0.0100\n",
            "Epoch 44/50\n",
            "4/4 [==============================] - 14s 4s/step - loss: 2.2448 - val_loss: 3.4048 - lr: 0.0100\n",
            "Epoch 45/50\n",
            "4/4 [==============================] - 14s 4s/step - loss: 2.1833 - val_loss: 3.3687 - lr: 0.0100\n",
            "Epoch 46/50\n",
            "4/4 [==============================] - 14s 4s/step - loss: 2.1116 - val_loss: 3.3312 - lr: 0.0100\n",
            "Epoch 47/50\n",
            "4/4 [==============================] - 14s 3s/step - loss: 2.0534 - val_loss: 3.2973 - lr: 0.0100\n",
            "Epoch 48/50\n",
            "4/4 [==============================] - 14s 3s/step - loss: 1.9768 - val_loss: 3.2893 - lr: 0.0100\n",
            "Epoch 49/50\n",
            "4/4 [==============================] - 16s 4s/step - loss: 1.9245 - val_loss: 3.2589 - lr: 0.0100\n",
            "Epoch 50/50\n",
            "4/4 [==============================] - 16s 4s/step - loss: 1.8671 - val_loss: 3.2222 - lr: 0.0100\n"
          ]
        },
        {
          "output_type": "execute_result",
          "data": {
            "text/plain": [
              "<keras.src.callbacks.History at 0x78aa3228dc90>"
            ]
          },
          "metadata": {},
          "execution_count": 150
        }
      ],
      "source": [
        "model2.fit(x=x_train, y=y_train, validation_data=(x_test, y_test), batch_size=512, epochs=50, callbacks=[callbackROP, callbackES])"
      ]
    },
    {
      "cell_type": "code",
      "source": [
        "token.sequences_to_texts([x_test[40]])"
      ],
      "metadata": {
        "colab": {
          "base_uri": "https://localhost:8080/"
        },
        "id": "dN74c0zuGXyc",
        "outputId": "133c0ba4-c5be-444a-9bfa-7d7dbb46407f"
      },
      "execution_count": 151,
      "outputs": [
        {
          "output_type": "execute_result",
          "data": {
            "text/plain": [
              "['<sos> 2 <eos>']"
            ]
          },
          "metadata": {},
          "execution_count": 151
        }
      ]
    },
    {
      "cell_type": "code",
      "source": [
        "[x_test[15]]"
      ],
      "metadata": {
        "colab": {
          "base_uri": "https://localhost:8080/"
        },
        "id": "_4eRmyX_Iczl",
        "outputId": "0d88a09e-2984-43c1-88ac-7f0c3148b6d2"
      },
      "execution_count": 157,
      "outputs": [
        {
          "output_type": "execute_result",
          "data": {
            "text/plain": [
              "[array([  0,   0,   0,   0,   0,   0,   0,   0,   0,   0,   0,   0,   0,\n",
              "          0,   0,   0,   0,   0,   0,   0,   0,   0,   0,   0,   0,   0,\n",
              "          0,   0,   0,   0,   0,   0,   0,   0,   0,   0,   0,   3, 173,\n",
              "        204,  98, 462,  84, 267,   2, 286,   8,  89, 204,   4], dtype=int32)]"
            ]
          },
          "metadata": {},
          "execution_count": 157
        }
      ]
    },
    {
      "cell_type": "code",
      "source": [
        "question = token.texts_to_sequences([\"<sos> Estados\"])"
      ],
      "metadata": {
        "id": "cCQ7WXvHNJmD"
      },
      "execution_count": 159,
      "outputs": []
    },
    {
      "cell_type": "code",
      "source": [
        "response = greedy_search(question, outputLen=20, model = model2, many2many = True)\n",
        "rta = from_seq_to_text(response)\n",
        "rta"
      ],
      "metadata": {
        "colab": {
          "base_uri": "https://localhost:8080/"
        },
        "id": "A4dLqBtNY0NG",
        "outputId": "3b7bd577-c970-4a34-9dd7-7363b2d1536c"
      },
      "execution_count": 160,
      "outputs": [
        {
          "output_type": "execute_result",
          "data": {
            "text/plain": [
              "['<sos> <sos> <sos> <sos> <sos> <sos> <sos> <sos> <sos> <sos> <sos> <sos> <sos> <sos> <sos> <sos> <sos> <sos> <sos> <sos>']"
            ]
          },
          "metadata": {},
          "execution_count": 160
        }
      ]
    },
    {
      "cell_type": "code",
      "source": [
        "response = greedy_search_withT(question, model2, max_len=20, T=100, many2many = True)\n",
        "rta = from_seq_to_text(response)\n",
        "rta"
      ],
      "metadata": {
        "colab": {
          "base_uri": "https://localhost:8080/"
        },
        "id": "BLxG4OhYnGh0",
        "outputId": "0295504c-9deb-4a14-afda-dcccc728d4ee"
      },
      "execution_count": 155,
      "outputs": [
        {
          "output_type": "execute_result",
          "data": {
            "text/plain": [
              "['surgida orientación entrará incitación sentencia sesión reciba comprende vías mismos becas política esente conservará realizados efectivo']"
            ]
          },
          "metadata": {},
          "execution_count": 155
        }
      ]
    },
    {
      "cell_type": "code",
      "source": [
        "maxOutputLen = 5\n",
        "kBeams = 5\n",
        "candidates = (question*kBeams, 1*kBeams)\n",
        "\n",
        "outSeq, outProb = stoch_beam_search(kBeams, maxOutputLen, candidates, model = model2, T=1, many2many = True)\n",
        "result = token.sequences_to_texts(outSeq)\n",
        "\n",
        "for i, sent in enumerate(result):\n",
        "  print(f\"prob: {outProb[i][0]:.10f} - Rta: {sent}\")\n"
      ],
      "metadata": {
        "colab": {
          "base_uri": "https://localhost:8080/"
        },
        "id": "WPfuNLYxpgBQ",
        "outputId": "ac535191-b082-4b38-f462-c3e3d61765d3"
      },
      "execution_count": 156,
      "outputs": [
        {
          "output_type": "stream",
          "name": "stdout",
          "text": [
            "prob: 0.0000012796 - Rta: <sos> estados <sos> <sos> <sos> <sos> <sos> <sos> <sos> <sos> <sos> <sos> <sos> <sos> <sos> <sos> <sos> <sos> <sos> <sos> <sos> <sos> surgida orientación entrará incitación sentencia sesión reciba comprende vías mismos becas política esente conservará realizados efectivo posible sido integrada interno pectiva\n",
            "prob: 0.0000004257 - Rta: <sos> estados <sos> <sos> <sos> <sos> <sos> <sos> <sos> <sos> <sos> <sos> <sos> <sos> <sos> <sos> <sos> <sos> <sos> <sos> <sos> <sos> surgida orientación entrará incitación sentencia sesión reciba comprende vías mismos becas política esente conservará realizados efectivo obligados está transmitidos literarias interno\n",
            "prob: 0.0000000884 - Rta: <sos> estados <sos> <sos> <sos> <sos> <sos> <sos> <sos> <sos> <sos> <sos> <sos> <sos> <sos> <sos> <sos> <sos> <sos> <sos> <sos> <sos> surgida orientación entrará incitación sentencia sesión reciba comprende vías mismos becas política esente conservará realizados efectivo ación unidas obligados daños daños\n",
            "prob: 0.0000000520 - Rta: <sos> estados <sos> <sos> <sos> <sos> <sos> <sos> <sos> <sos> <sos> <sos> <sos> <sos> <sos> <sos> <sos> <sos> <sos> <sos> <sos> <sos> surgida orientación entrará incitación sentencia sesión reciba comprende vías mismos becas política esente conservará realizados efectivo pública posición científicas delictivos literarias\n",
            "prob: 0.0000000235 - Rta: <sos> estados <sos> <sos> <sos> <sos> <sos> <sos> <sos> <sos> <sos> <sos> <sos> <sos> <sos> <sos> <sos> <sos> <sos> <sos> <sos> <sos> surgida orientación entrará incitación sentencia sesión reciba comprende vías mismos becas política esente conservará realizados efectivo aires geográfica protegido transmitidos constituyente\n"
          ]
        }
      ]
    },
    {
      "cell_type": "code",
      "source": [
        "model2.save_weights('model2_weights.h5')"
      ],
      "metadata": {
        "id": "cbzhjyEr130o"
      },
      "execution_count": 179,
      "outputs": []
    },
    {
      "cell_type": "markdown",
      "source": [
        "# Perplejidad\n",
        "*Def*:\n",
        "$$\n",
        "\\text{Perplexity} = \\Pi_{t=1}^T (\\frac{1}{P(x^{(t+1)}|x^{(t)},...,x^{(1)})})^{1/T}\n",
        "$$"
      ],
      "metadata": {
        "id": "FD25p-ZjPkL4"
      }
    },
    {
      "cell_type": "code",
      "source": [
        "def perplexity(model, init_seq, many2many = False):\n",
        "  seq = init_seq\n",
        "  score = 1\n",
        "  for i in range(2, len(seq[0])):\n",
        "    out = pad_sequences([seq[0][:i]], maxlen=maxLen)\n",
        "    out = model.predict(out, verbose=0)\n",
        "    if many2many == True:\n",
        "      out = np.array([out[0,-1, :]])\n",
        "    score *= (1/out[0][seq[0][i]])**(1/len(seq[0]))\n",
        "  return score"
      ],
      "metadata": {
        "id": "wdsGKdvXPmg-"
      },
      "execution_count": 175,
      "outputs": []
    },
    {
      "cell_type": "markdown",
      "source": [
        "Perplexity con many to one"
      ],
      "metadata": {
        "id": "0lERtzqHdX-x"
      }
    },
    {
      "cell_type": "code",
      "source": [
        "question = token.texts_to_sequences([\"<sos> El presidente debe cumplir las normas\"])\n",
        "print(question)\n",
        "score = perplexity(model, question, many2many=False)\n",
        "score"
      ],
      "metadata": {
        "colab": {
          "base_uri": "https://localhost:8080/"
        },
        "id": "BGJvgaZSPpe3",
        "outputId": "fb469a3d-1e66-4916-9845-00413028edf6"
      },
      "execution_count": 173,
      "outputs": [
        {
          "output_type": "stream",
          "name": "stdout",
          "text": [
            "[[3, 9, 121, 163, 1382, 11, 345]]\n"
          ]
        },
        {
          "output_type": "execute_result",
          "data": {
            "text/plain": [
              "40.467258117400426"
            ]
          },
          "metadata": {},
          "execution_count": 173
        }
      ]
    },
    {
      "cell_type": "markdown",
      "source": [
        "Perplexity con many to many"
      ],
      "metadata": {
        "id": "q5qbCjK1dg_V"
      }
    },
    {
      "cell_type": "code",
      "source": [
        "score = perplexity(model2, question, many2many=True)\n",
        "score"
      ],
      "metadata": {
        "colab": {
          "base_uri": "https://localhost:8080/"
        },
        "id": "ceih09HQdUa1",
        "outputId": "585454d5-5cda-4ead-cb04-15668e7f0d54"
      },
      "execution_count": 176,
      "outputs": [
        {
          "output_type": "execute_result",
          "data": {
            "text/plain": [
              "171522098.9835128"
            ]
          },
          "metadata": {},
          "execution_count": 176
        }
      ]
    },
    {
      "cell_type": "markdown",
      "source": [
        "Es dudoso el valor de la perplejidad para el modelo many to many. Aunque al menos tiene sentido que de peor que many to one, dado que lo resultados con texto probados asi lo muestran."
      ],
      "metadata": {
        "id": "bAWOW5LXGKB-"
      }
    },
    {
      "cell_type": "markdown",
      "source": [
        "#SimpleRNN"
      ],
      "metadata": {
        "id": "ixTepXAJe1eS"
      }
    },
    {
      "cell_type": "code",
      "source": [
        "from tensorflow.keras.layers import SimpleRNN\n",
        "model3 = tf.keras.Sequential()\n",
        "model3.add(Input(shape=(maxLen,)))\n",
        "model3.add(Embedding(nb_words, embed_dim, weights=[embedding_matrix], input_length=maxLen, trainable=True))\n",
        "model3.add(SimpleRNN(value_dim, return_sequences=False, activation=\"tanh\"))\n",
        "model3.add(Dropout(0.4))\n",
        "model3.add(Dense(32, activation='relu'))\n",
        "model3.add(Dense(nb_words, activation='softmax'))"
      ],
      "metadata": {
        "id": "OTnXhmoKe_Q-"
      },
      "execution_count": 184,
      "outputs": []
    },
    {
      "cell_type": "code",
      "source": [
        "model3.summary()"
      ],
      "metadata": {
        "colab": {
          "base_uri": "https://localhost:8080/"
        },
        "id": "BHFsD5iUf_ac",
        "outputId": "95fb6191-6dce-4a6e-c3b5-b098c98223a2"
      },
      "execution_count": 185,
      "outputs": [
        {
          "output_type": "stream",
          "name": "stdout",
          "text": [
            "Model: \"sequential_1\"\n",
            "_________________________________________________________________\n",
            " Layer (type)                Output Shape              Param #   \n",
            "=================================================================\n",
            " embedding_10 (Embedding)    (None, 50, 300)           1765800   \n",
            "                                                                 \n",
            " simple_rnn_1 (SimpleRNN)    (None, 100)               40100     \n",
            "                                                                 \n",
            " dropout_10 (Dropout)        (None, 100)               0         \n",
            "                                                                 \n",
            " dense_18 (Dense)            (None, 32)                3232      \n",
            "                                                                 \n",
            " dense_19 (Dense)            (None, 5886)              194238    \n",
            "                                                                 \n",
            "=================================================================\n",
            "Total params: 2003370 (7.64 MB)\n",
            "Trainable params: 2003370 (7.64 MB)\n",
            "Non-trainable params: 0 (0.00 Byte)\n",
            "_________________________________________________________________\n"
          ]
        }
      ]
    },
    {
      "cell_type": "code",
      "execution_count": 186,
      "metadata": {
        "id": "ZWM1zxLAgNhY"
      },
      "outputs": [],
      "source": [
        "model3.compile(loss=\"sparse_categorical_crossentropy\", optimizer=Adam(learning_rate=0.01))"
      ]
    },
    {
      "cell_type": "markdown",
      "source": [
        "Uso many to one"
      ],
      "metadata": {
        "id": "1lKj2SM2gn9W"
      }
    },
    {
      "cell_type": "code",
      "source": [
        "X, y = create_dataset(sequences)\n",
        "x_train = pad_sequences(X, maxlen=maxLen)\n",
        "y_train = np.array(y)\n",
        "x_train, x_test, y_train, y_test = train_test_split(x_train, y_train, test_size=0.3)"
      ],
      "metadata": {
        "id": "IWZrm28qgkX2"
      },
      "execution_count": 187,
      "outputs": []
    },
    {
      "cell_type": "code",
      "execution_count": 188,
      "metadata": {
        "colab": {
          "base_uri": "https://localhost:8080/"
        },
        "outputId": "9af0bc23-8d14-4115-e14a-3a45322697aa",
        "id": "sUBpU6PQgNhZ"
      },
      "outputs": [
        {
          "output_type": "stream",
          "name": "stdout",
          "text": [
            "Epoch 1/50\n",
            "51/51 [==============================] - 20s 337ms/step - loss: 6.5865 - val_loss: 6.1383 - lr: 0.0100\n",
            "Epoch 2/50\n",
            "51/51 [==============================] - 17s 332ms/step - loss: 5.9716 - val_loss: 5.9297 - lr: 0.0100\n",
            "Epoch 3/50\n",
            "51/51 [==============================] - 20s 384ms/step - loss: 5.6004 - val_loss: 5.6059 - lr: 0.0100\n",
            "Epoch 4/50\n",
            "51/51 [==============================] - 17s 336ms/step - loss: 5.1852 - val_loss: 5.4325 - lr: 0.0100\n",
            "Epoch 5/50\n",
            "51/51 [==============================] - 18s 348ms/step - loss: 4.9233 - val_loss: 5.3507 - lr: 0.0100\n",
            "Epoch 6/50\n",
            "51/51 [==============================] - 17s 333ms/step - loss: 4.7203 - val_loss: 5.2861 - lr: 0.0100\n",
            "Epoch 7/50\n",
            "51/51 [==============================] - 17s 330ms/step - loss: 4.5560 - val_loss: 5.2579 - lr: 0.0100\n",
            "Epoch 8/50\n",
            "51/51 [==============================] - 18s 352ms/step - loss: 4.4089 - val_loss: 5.2691 - lr: 0.0100\n",
            "Epoch 9/50\n",
            "51/51 [==============================] - 17s 331ms/step - loss: 4.2738 - val_loss: 5.2514 - lr: 0.0100\n",
            "Epoch 10/50\n",
            "51/51 [==============================] - 17s 329ms/step - loss: 4.1613 - val_loss: 5.2777 - lr: 0.0100\n",
            "Epoch 11/50\n",
            "51/51 [==============================] - 19s 379ms/step - loss: 4.0591 - val_loss: 5.3118 - lr: 0.0100\n",
            "Epoch 12/50\n",
            "51/51 [==============================] - 17s 332ms/step - loss: 3.9919 - val_loss: 5.3024 - lr: 0.0100\n",
            "Epoch 13/50\n",
            "51/51 [==============================] - 17s 330ms/step - loss: 3.9154 - val_loss: 5.3365 - lr: 0.0100\n",
            "Epoch 14/50\n",
            "51/51 [==============================] - 20s 395ms/step - loss: 3.8508 - val_loss: 5.3520 - lr: 0.0100\n",
            "Epoch 15/50\n",
            "51/51 [==============================] - 17s 329ms/step - loss: 3.7038 - val_loss: 5.4010 - lr: 0.0050\n",
            "Epoch 16/50\n",
            "51/51 [==============================] - 17s 344ms/step - loss: 3.6207 - val_loss: 5.4839 - lr: 0.0050\n",
            "Epoch 17/50\n",
            "51/51 [==============================] - 17s 339ms/step - loss: 3.5695 - val_loss: 5.5300 - lr: 0.0050\n",
            "Epoch 18/50\n",
            "51/51 [==============================] - 17s 330ms/step - loss: 3.5323 - val_loss: 5.5886 - lr: 0.0050\n",
            "Epoch 19/50\n",
            "51/51 [==============================] - 20s 387ms/step - loss: 3.5023 - val_loss: 5.6212 - lr: 0.0050\n"
          ]
        },
        {
          "output_type": "execute_result",
          "data": {
            "text/plain": [
              "<keras.src.callbacks.History at 0x78aa2e8500a0>"
            ]
          },
          "metadata": {},
          "execution_count": 188
        }
      ],
      "source": [
        "model3.fit(x=x_train, y=y_train, validation_data=(x_test, y_test), batch_size=512, epochs=50, callbacks=[callbackROP, callbackES])"
      ]
    },
    {
      "cell_type": "code",
      "source": [
        "question = token.texts_to_sequences([\"<sos> El presidente debe cumplir las normas\"])\n",
        "print(question)\n",
        "score = perplexity(model3, question, many2many=False)\n",
        "score"
      ],
      "metadata": {
        "colab": {
          "base_uri": "https://localhost:8080/"
        },
        "id": "t7QWy-OejsBP",
        "outputId": "b107b9f0-4c51-4d7a-b3ae-850a5dd35c80"
      },
      "execution_count": 190,
      "outputs": [
        {
          "output_type": "stream",
          "name": "stdout",
          "text": [
            "[[3, 9, 121, 163, 1382, 11, 345]]\n"
          ]
        },
        {
          "output_type": "execute_result",
          "data": {
            "text/plain": [
              "104.84285198186203"
            ]
          },
          "metadata": {},
          "execution_count": 190
        }
      ]
    },
    {
      "cell_type": "markdown",
      "source": [
        "## Dio una perplejidad peor ante ceteris paribus, por lo tanto LSTM es superior. *qed*"
      ],
      "metadata": {
        "id": "1T-X9BtAjxUI"
      }
    }
  ],
  "metadata": {
    "accelerator": "GPU",
    "colab": {
      "provenance": [],
      "gpuType": "T4"
    },
    "kernelspec": {
      "display_name": "Python 3",
      "name": "python3"
    },
    "language_info": {
      "codemirror_mode": {
        "name": "ipython",
        "version": 3
      },
      "file_extension": ".py",
      "mimetype": "text/x-python",
      "name": "python",
      "nbconvert_exporter": "python",
      "pygments_lexer": "ipython3",
      "version": "3.10.4"
    },
    "widgets": {
      "application/vnd.jupyter.widget-state+json": {
        "169915ab226443c7a5c0b3b9267b7b39": {
          "model_module": "@jupyter-widgets/controls",
          "model_name": "IntProgressModel",
          "model_module_version": "1.5.0",
          "state": {
            "_dom_classes": [],
            "_model_module": "@jupyter-widgets/controls",
            "_model_module_version": "1.5.0",
            "_model_name": "IntProgressModel",
            "_view_count": null,
            "_view_module": "@jupyter-widgets/controls",
            "_view_module_version": "1.5.0",
            "_view_name": "ProgressView",
            "bar_style": "",
            "description": "",
            "description_tooltip": null,
            "layout": "IPY_MODEL_dc8db00fa3f24112867971f8140e89e7",
            "max": 1000000,
            "min": 0,
            "orientation": "horizontal",
            "style": "IPY_MODEL_d38ee55ad546458cb2af9256257e9e78",
            "value": 1000000
          }
        },
        "dc8db00fa3f24112867971f8140e89e7": {
          "model_module": "@jupyter-widgets/base",
          "model_name": "LayoutModel",
          "model_module_version": "1.2.0",
          "state": {
            "_model_module": "@jupyter-widgets/base",
            "_model_module_version": "1.2.0",
            "_model_name": "LayoutModel",
            "_view_count": null,
            "_view_module": "@jupyter-widgets/base",
            "_view_module_version": "1.2.0",
            "_view_name": "LayoutView",
            "align_content": null,
            "align_items": null,
            "align_self": null,
            "border": null,
            "bottom": null,
            "display": null,
            "flex": null,
            "flex_flow": null,
            "grid_area": null,
            "grid_auto_columns": null,
            "grid_auto_flow": null,
            "grid_auto_rows": null,
            "grid_column": null,
            "grid_gap": null,
            "grid_row": null,
            "grid_template_areas": null,
            "grid_template_columns": null,
            "grid_template_rows": null,
            "height": null,
            "justify_content": null,
            "justify_items": null,
            "left": null,
            "margin": null,
            "max_height": null,
            "max_width": null,
            "min_height": null,
            "min_width": null,
            "object_fit": null,
            "object_position": null,
            "order": null,
            "overflow": null,
            "overflow_x": null,
            "overflow_y": null,
            "padding": null,
            "right": null,
            "top": null,
            "visibility": null,
            "width": null
          }
        },
        "d38ee55ad546458cb2af9256257e9e78": {
          "model_module": "@jupyter-widgets/controls",
          "model_name": "ProgressStyleModel",
          "model_module_version": "1.5.0",
          "state": {
            "_model_module": "@jupyter-widgets/controls",
            "_model_module_version": "1.5.0",
            "_model_name": "ProgressStyleModel",
            "_view_count": null,
            "_view_module": "@jupyter-widgets/base",
            "_view_module_version": "1.2.0",
            "_view_name": "StyleView",
            "bar_color": null,
            "description_width": ""
          }
        }
      }
    }
  },
  "nbformat": 4,
  "nbformat_minor": 0
}